{
 "cells": [
  {
   "cell_type": "code",
   "execution_count": 1,
   "metadata": {},
   "outputs": [],
   "source": [
    "import matplotlib\n",
    "%matplotlib inline\n",
    "from pycocotools.coco import COCO\n",
    "import numpy as np\n",
    "import skimage.io as io\n",
    "import matplotlib.pyplot as plt\n",
    "from matplotlib.pyplot import figure as Figure\n",
    "import pylab\n",
    "import sys\n",
    "import os\n",
    "from matplotlib.collections import PatchCollection\n",
    "from matplotlib.patches import Polygon\n",
    "from skimage.draw import polygon\n",
    "import json\n",
    "import matplotlib.image as mpimg\n",
    "coco=COCO('') # add file "
   ]
  },
  {
   "cell_type": "code",
   "execution_count": 2,
   "metadata": {},
   "outputs": [],
   "source": [
    "def get_mask_polygons(anns, catIds=[]):\n",
    "    polygons = []\n",
    "    for ann in anns:\n",
    "        if ann['category_id'] in catIds:\n",
    "            # polygon\n",
    "            for seg in ann['segmentation']:\n",
    "                poly = np.array(seg).reshape((len(seg)//2, 2))\n",
    "                polygons.append(Polygon(poly, True,alpha=0.4))\n",
    "    return polygons    \n",
    "\n",
    "def mask_objs(ann, imgId, catId, split):\n",
    "        fig = Figure()\n",
    "        ax = fig.gca()\n",
    "\n",
    "        img_name = str(imgId).zfill(12)\n",
    "        I=mpimg.imread('/scratch/network/nmeister/COCO/{0}/COCO_{0}_{1}.jpg' %(split, img_name))\n",
    "        # load and display instance annotations\n",
    "        plt.cla()\n",
    "        plt.imshow(I); #plt.axis('off')\n",
    "        annIds = coco.getAnnIds(imgIds=imgId, iscrowd=False)\n",
    "        anns = coco.loadAnns(annIds)\n",
    "        polygons = get_mask_polygons(anns, [catId])\n",
    "\n",
    "        #code to make color average of scene\n",
    "        colors = []\n",
    "        if I.ndim == 2:\n",
    "            I = np.tile(I[..., np.newaxis], (1, 1, 3))\n",
    "        for channel in range(3):\n",
    "            colors.append(np.mean(I[:,:,channel])/255.)\n",
    "        p = PatchCollection(polygons, facecolors=tuple(colors), edgecolors=tuple(colors), linewidths=10)\n",
    "\n",
    "        ax = plt.gca()\n",
    "        ax.add_collection(p)\n",
    "        ax.set_axis_off()\n",
    "        ax.get_xaxis().set_visible(False)\n",
    "        ax.get_yaxis().set_visible(False)\n",
    "\n",
    "\n",
    "        ax.xaxis.set_major_locator(matplotlib.ticker.NullLocator())\n",
    "        ax.yaxis.set_major_locator(matplotlib.ticker.NullLocator())\n",
    "\n",
    "        plt.subplots_adjust(top = 1, bottom = 0, right = 1, left = 0, \n",
    "                    hspace = 0, wspace = 0)\n",
    "\n",
    "        save_dir = '/scratch/network/nmeister/COCO/{}/'.format(catId)\n",
    "        if not os.path.isdir(save_dir):\n",
    "            os.mkdir(save_dir)\n",
    "        plt.savefig(save_dir + '{}.jpg'.format(img_name), bbox_inches='tight', pad_inches=-0.05)"
   ]
  }
 ],
 "metadata": {
  "interpreter": {
   "hash": "d55211d950b1be844e423df63171f305cdc11886c0cde78479f6ac9d5e8fa9e0"
  },
  "kernelspec": {
   "display_name": "Python 3.7.11 64-bit ('sony': conda)",
   "language": "python",
   "name": "python3"
  },
  "language_info": {
   "codemirror_mode": {
    "name": "ipython",
    "version": 3
   },
   "file_extension": ".py",
   "mimetype": "text/x-python",
   "name": "python",
   "nbconvert_exporter": "python",
   "pygments_lexer": "ipython3",
   "version": "3.7.11"
  },
  "orig_nbformat": 4
 },
 "nbformat": 4,
 "nbformat_minor": 2
}
