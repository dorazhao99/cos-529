{
 "cells": [
  {
   "cell_type": "code",
   "execution_count": null,
   "metadata": {},
   "outputs": [],
   "source": [
    "import cv2\n",
    "import os\n",
    "import pickle\n",
    "import numpy as np\n",
    "from pycocotools.coco import COCO \n",
    "from tqdm import tqdm\n",
    "import matplotlib.pyplot as plt"
   ]
  },
  {
   "cell_type": "code",
   "execution_count": null,
   "metadata": {},
   "outputs": [],
   "source": [
    "skeleton = pickle.load(open('coco_skeleton.pkl', 'rb'))"
   ]
  },
  {
   "cell_type": "code",
   "execution_count": null,
   "metadata": {},
   "outputs": [],
   "source": [
    "for coco_split, file_split in [('train', 'train'), ('val', 'val')]:\n",
    "    coco = COCO('data/mals/annotations/person_keypoints_{}2014.json'.format(coco_split))\n",
    "    filepath = 'data/skeleton_black/{}/{}'\n",
    "    files = pickle.load(open('data/mals/{}.pkl'.format(file_split), 'rb'))\n",
    "    for i in files:\n",
    "        image = cv2.imread(i)\n",
    "        image = np.zeros(image.shape, np.uint8)\n",
    "        imgId = int(i.split('_')[-1].split('.')[0])\n",
    "        annIds = coco.getAnnIds(imgId, catIds=[1], iscrowd=False)\n",
    "        anns = coco.loadAnns(annIds)\n",
    "        for ann in anns:\n",
    "            keypoints = np.array(ann['keypoints']).reshape(17,3)\n",
    "            visible_keypoints = {}\n",
    "            for index, (x, y, v) in enumerate(keypoints): \n",
    "                if v == 2:\n",
    "                    image = cv2.circle(image, (x,y), radius=3, color=(255, 255, 255), thickness=-1)\n",
    "                    visible_keypoints[index + 1] = (x, y)\n",
    "            for p1, p2 in skeleton:\n",
    "                if p1 in visible_keypoints and p2 in visible_keypoints: \n",
    "                    image = cv2.line(image, visible_keypoints[p1], visible_keypoints[p2], color=(255, 255, 255), thickness=2)\n",
    "        new_name = filepath.format(file_split, i.split('/')[-1])\n",
    "        cv2.imwrite(new_name, image)"
   ]
  },
  {
   "cell_type": "code",
   "execution_count": null,
   "metadata": {},
   "outputs": [],
   "source": [
    "for split in ['train', 'val']:\n",
    "    filepath = 'data/skeleton_black/{}/{}'\n",
    "    for file in os.listdir('data/skeleton/{}'.format(split)):\n",
    "        image = cv2.imread('data/skeleton/{}/{}'.format(split, file))\n",
    "        inv_image = np.invert(image)\n",
    "        new_name = filepath.format(split, file)\n",
    "        cv2.imwrite(new_name, inv_image)\n",
    "plt.imshow(inv_image)"
   ]
  }
 ],
 "metadata": {
  "kernelspec": {
   "display_name": "Python 3",
   "language": "python",
   "name": "python3"
  },
  "language_info": {
   "codemirror_mode": {
    "name": "ipython",
    "version": 3
   },
   "file_extension": ".py",
   "mimetype": "text/x-python",
   "name": "python",
   "nbconvert_exporter": "python",
   "pygments_lexer": "ipython3",
   "version": "3.8.12"
  }
 },
 "nbformat": 4,
 "nbformat_minor": 4
}
