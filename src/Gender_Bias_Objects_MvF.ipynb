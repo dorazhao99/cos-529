{
  "nbformat": 4,
  "nbformat_minor": 0,
  "metadata": {
    "colab": {
      "name": "Gender Bias Objects_MvF.ipynb",
      "provenance": []
    },
    "kernelspec": {
      "name": "python3",
      "display_name": "Python 3"
    },
    "language_info": {
      "name": "python"
    },
    "accelerator": "GPU"
  },
  "cells": [
    {
      "cell_type": "code",
      "metadata": {
        "id": "5I7ku2eh3gW0"
      },
      "source": [
        "import pickle\n",
        "import numpy as np\n",
        "from collections import defaultdict\n",
        "from operator import itemgetter\n",
        "import matplotlib.pyplot as plt\n",
        "import numpy as np\n"
      ],
      "execution_count": null,
      "outputs": []
    },
    {
      "cell_type": "code",
      "metadata": {
        "colab": {
          "base_uri": "https://localhost:8080/"
        },
        "id": "HQq4-uyt1XCk",
        "outputId": "3aa48701-83a8-4285-cfd8-33e47abe720f"
      },
      "source": [
        "from google.colab import drive\n",
        "drive.mount('/content/gdrive')"
      ],
      "execution_count": null,
      "outputs": [
        {
          "output_type": "stream",
          "name": "stdout",
          "text": [
            "Mounted at /content/gdrive\n"
          ]
        }
      ]
    },
    {
      "cell_type": "code",
      "metadata": {
        "colab": {
          "base_uri": "https://localhost:8080/"
        },
        "id": "QOkizKLH2QL6",
        "outputId": "98c8e610-4ffd-46e8-8d82-1b86571d6105"
      },
      "source": [
        "cd /content/gdrive/MyDrive/genderbias"
      ],
      "execution_count": null,
      "outputs": [
        {
          "output_type": "stream",
          "name": "stdout",
          "text": [
            "/content/gdrive/MyDrive/genderbias\n"
          ]
        }
      ]
    },
    {
      "cell_type": "code",
      "source": [
        "plt.style.use('ggplot')"
      ],
      "metadata": {
        "id": "BI7i-oc6PNkG"
      },
      "execution_count": null,
      "outputs": []
    },
    {
      "cell_type": "markdown",
      "source": [
        "Identify Image IDs of F/M containing the top 10 objects identified by logistic regression classifier."
      ],
      "metadata": {
        "id": "QCYViftB9Wdf"
      }
    },
    {
      "cell_type": "markdown",
      "metadata": {
        "id": "a-GH1CO2j7IE"
      },
      "source": [
        "Object Occurence Analysis"
      ]
    },
    {
      "cell_type": "code",
      "metadata": {
        "id": "zOyHXQ_n2u04"
      },
      "source": [
        "F_objects = pickle.load(open('F_objects.pkl', 'rb')) # list of F image's one hot encoding of objects\n",
        "M_objects = pickle.load(open('M_objects.pkl', 'rb')) # list of M image's one hot encoding of objects\n",
        "\n",
        "humanlabels_to_onehot = pickle.load(open('humanlabels_to_onehot.pkl', 'rb'))\n",
        "onehot_to_humanlabels = dict((y,x) for x,y in humanlabels_to_onehot.items())"
      ],
      "execution_count": null,
      "outputs": []
    },
    {
      "cell_type": "code",
      "metadata": {
        "id": "tKYsooPm3Z6l"
      },
      "source": [
        "# replace M/F_objects with a list of indices where each one hot encoding is converted into indices where it equals one\n",
        "F_obj_idx, M_obj_idx = [], []\n",
        "for one_hot_enc in F_objects:\n",
        "  F_obj_idx.append(np.where(one_hot_enc>0)[0])\n",
        "\n",
        "for one_hot_enc in M_objects:\n",
        "  M_obj_idx.append(np.where(one_hot_enc>0)[0])\n",
        "  "
      ],
      "execution_count": null,
      "outputs": []
    },
    {
      "cell_type": "code",
      "metadata": {
        "colab": {
          "base_uri": "https://localhost:8080/"
        },
        "id": "1faLZalbCzn4",
        "outputId": "b7f10428-0b68-4cda-f2f4-6ac3a7f93a3f"
      },
      "source": [
        "F_IMGS = len(F_obj_idx)\n",
        "M_IMGS = len(M_obj_idx)\n",
        "print(\"F_IMGS: \", F_IMGS)\n",
        "print(\"M_IMGS: \", M_IMGS)\n"
      ],
      "execution_count": null,
      "outputs": [
        {
          "output_type": "stream",
          "name": "stdout",
          "text": [
            "F_IMGS:  536\n",
            "M_IMGS:  1620\n"
          ]
        }
      ]
    },
    {
      "cell_type": "code",
      "metadata": {
        "id": "QRBGYjGi715I"
      },
      "source": [
        "# create a F/M dictionary mapping object idx to object count\n",
        "F_obj_count, M_obj_count = defaultdict(int), defaultdict(int) \n",
        "for obj_idx in F_obj_idx:\n",
        "  for obj in obj_idx:\n",
        "    F_obj_count[obj]+=1\n",
        "\n",
        "for obj_idx in M_obj_idx:\n",
        "  for obj in obj_idx:\n",
        "    M_obj_count[obj]+=1\n",
        "\n",
        "for obj_idx in list(F_obj_count.keys()):\n",
        "  F_obj_count[obj_idx] = F_obj_count[obj_idx]/F_IMGS\n",
        "\n",
        "for obj_idx in list(M_obj_count.keys()):\n",
        "  M_obj_count[obj_idx] = M_obj_count[obj_idx]/M_IMGS"
      ],
      "execution_count": null,
      "outputs": []
    },
    {
      "cell_type": "code",
      "metadata": {
        "id": "F_C8dh_0DMgQ"
      },
      "source": [
        "# Find largest differnece in Male and Female objects\n",
        "F_M_obj_percentdiff = {}\n",
        "for obj_idx in M_obj_count:\n",
        "  F_M_obj_percentdiff[obj_idx] = abs(M_obj_count[obj_idx]-F_obj_count[obj_idx])"
      ],
      "execution_count": null,
      "outputs": []
    },
    {
      "cell_type": "code",
      "metadata": {
        "id": "lTWKtjBg-rP8"
      },
      "source": [
        "N=10\n",
        "res = dict(sorted(F_M_obj_percentdiff.items(), key = itemgetter(1), reverse = True)[:N])\n",
        "\n",
        "sorted_percentdiff = sorted(res.values())\n",
        "sorted_obj_idx = [x for _,x in sorted(zip(res.values(),res.keys()))]"
      ],
      "execution_count": null,
      "outputs": []
    },
    {
      "cell_type": "code",
      "metadata": {
        "id": "nxhynlBrZfq2"
      },
      "source": [
        "# convert sorted_obj_name to human labels\n",
        "sorted_obj_name = []\n",
        "for obj_idx in sorted_obj_idx:\n",
        "  sorted_obj_name.append(onehot_to_humanlabels[obj_idx])"
      ],
      "execution_count": null,
      "outputs": []
    },
    {
      "cell_type": "code",
      "metadata": {
        "colab": {
          "base_uri": "https://localhost:8080/"
        },
        "id": "cEk7PcQrFImu",
        "outputId": "78c3c0cd-0f5d-4aa4-ca21-a32cf05222b7"
      },
      "source": [
        "sorted_percentdiff, sorted_obj_name, sorted_obj_idx"
      ],
      "execution_count": null,
      "outputs": [
        {
          "output_type": "execute_result",
          "data": {
            "text/plain": [
              "([0.020748111295374988,\n",
              "  0.022051778146305517,\n",
              "  0.024824949327436896,\n",
              "  0.025032246176524775,\n",
              "  0.025755481850009213,\n",
              "  0.028510226644554992,\n",
              "  0.02874976967016768,\n",
              "  0.033167495854063006,\n",
              "  0.037069283213561816,\n",
              "  0.03725354707941773],\n",
              " ['window-other',\n",
              "  'plastic',\n",
              "  'bush',\n",
              "  'metal',\n",
              "  'table',\n",
              "  'tennis racket',\n",
              "  'tree',\n",
              "  'wall-other',\n",
              "  'grass',\n",
              "  'handbag'],\n",
              " [169, 131, 85, 120, 153, 38, 157, 161, 112, 26])"
            ]
          },
          "metadata": {},
          "execution_count": 12
        }
      ]
    },
    {
      "cell_type": "code",
      "metadata": {
        "id": "nIW8g8_ncXDM"
      },
      "source": [
        "F_ordered_obj,M_ordered_obj = [], []\n",
        "for obj_idx in sorted_obj_idx:\n",
        "  F_ordered_obj.append(F_obj_count[obj_idx])\n",
        "  M_ordered_obj.append(M_obj_count[obj_idx])"
      ],
      "execution_count": null,
      "outputs": []
    },
    {
      "cell_type": "code",
      "metadata": {
        "colab": {
          "base_uri": "https://localhost:8080/",
          "height": 405
        },
        "id": "LnwObKVPEHa1",
        "outputId": "db4aae07-0661-44d0-ebfd-05ccc01e65bf"
      },
      "source": [
        "\n",
        "labels = sorted_obj_name\n",
        "men_means = M_ordered_obj\n",
        "women_means = F_ordered_obj\n",
        "\n",
        "x = np.arange(len(labels))  # the label locations\n",
        "width = 0.35  # the width of the bars\n",
        "\n",
        "fig, ax = plt.subplots()\n",
        "rects1 = ax.bar(x - width/2, men_means, width, label='Men')\n",
        "rects2 = ax.bar(x + width/2, women_means, width, label='Women')\n",
        "\n",
        "# Add some text for labels, title and custom x-axis tick labels, etc.\n",
        "ax.set_ylabel('Percent of Images with Object ')\n",
        "ax.set_title('Top 10 Percent Difference in Object Occurence in M vs F Images')\n",
        "ax.set_xticks(x)\n",
        "ax.set_xticklabels(labels)\n",
        "ax.legend()\n",
        "\n",
        "#ax.bar_label(rects1, padding=3)\n",
        "#ax.bar_label(rects2, padding=3)\n",
        "\n",
        "fig.set_size_inches(10.5, 5.5)\n",
        "\n",
        "fig.tight_layout()\n",
        "\n",
        "plt.show()"
      ],
      "execution_count": null,
      "outputs": [
        {
          "output_type": "display_data",
          "data": {
            "image/png": "[encoded data removed]",
            "text/plain": [
              "<Figure size 756x396 with 1 Axes>"
            ]
          },
          "metadata": {}
        }
      ]
    },
    {
      "cell_type": "code",
      "metadata": {
        "colab": {
          "base_uri": "https://localhost:8080/"
        },
        "id": "ufUU4pkdBQvB",
        "outputId": "8d31819c-0ced-4cac-debc-5ea857743ccd"
      },
      "source": [
        "res"
      ],
      "execution_count": null,
      "outputs": [
        {
          "output_type": "execute_result",
          "data": {
            "text/plain": [
              "{26: 0.03725354707941773,\n",
              " 38: 0.028510226644554992,\n",
              " 85: 0.024824949327436896,\n",
              " 112: 0.037069283213561816,\n",
              " 120: 0.025032246176524775,\n",
              " 131: 0.022051778146305517,\n",
              " 153: 0.025755481850009213,\n",
              " 157: 0.02874976967016768,\n",
              " 161: 0.033167495854063006,\n",
              " 169: 0.020748111295374988}"
            ]
          },
          "metadata": {},
          "execution_count": 15
        }
      ]
    },
    {
      "cell_type": "markdown",
      "metadata": {
        "id": "H0QhXgF_kB7x"
      },
      "source": [
        "Logistic Regression Model"
      ]
    },
    {
      "cell_type": "code",
      "metadata": {
        "id": "JuxvVWEsh1Nv"
      },
      "source": [
        "labels_val = pickle.load(open('labels_val.pkl', 'rb')) # image path name to one hot encoding\n",
        "scores_val_list = pickle.load(open('scores_val.pkl', 'rb')) # image path name to one hot encoding\n",
        "gender_labels_train = pickle.load(open('gender_labels_train.pkl', 'rb')) # image path name to one hot encoding\n",
        "gender_labels_val = pickle.load(open('gender_labels_val.pkl', 'rb')) # image path name to one hot encoding"
      ],
      "execution_count": null,
      "outputs": []
    },
    {
      "cell_type": "code",
      "metadata": {
        "id": "GppRZ6tt5g62"
      },
      "source": [
        "# convert scores to labels\n",
        "scores_val = {}\n",
        "for i, score in enumerate(scores_val_list):\n",
        "  img_path = list(labels_val.keys())[i]\n",
        "  scores_val[img_path] = score>0.5"
      ],
      "execution_count": null,
      "outputs": []
    },
    {
      "cell_type": "markdown",
      "metadata": {
        "id": "s2zWWbeQ6j2h"
      },
      "source": [
        "Ground Truth"
      ]
    },
    {
      "cell_type": "code",
      "metadata": {
        "id": "5fIWerY4hzyg"
      },
      "source": [
        "X_train, y_train, X_val, y_val = [], [], [], []\n",
        "for img_path in list(gender_labels_train.keys()):\n",
        "  gender = gender_labels_train[img_path]\n",
        "  onehotenc = np.array(labels_val[img_path])\n",
        "  X_train.append(onehotenc)\n",
        "  y_train.append(gender)\n",
        "\n",
        "for img_path in list(gender_labels_val.keys()):\n",
        "  gender = gender_labels_val[img_path]\n",
        "  onehotenc = np.array(labels_val[img_path])\n",
        "  X_val.append(onehotenc)\n",
        "  y_val.append(gender)\n",
        "\n",
        "X_train, y_train, X_val, y_val = np.array(X_train), np.array(y_train), np.array(X_val), np.array(y_val) "
      ],
      "execution_count": null,
      "outputs": []
    },
    {
      "cell_type": "code",
      "metadata": {
        "colab": {
          "base_uri": "https://localhost:8080/"
        },
        "id": "0xiiu5TqD50J",
        "outputId": "3b7802e0-f57f-45c0-b906-95f0de269f9d"
      },
      "source": [
        "from sklearn.linear_model import LogisticRegression\n",
        "\n",
        "clf = LogisticRegression(random_state=0).fit(X_train, y_train)\n",
        "clf.score(X_val, y_val)"
      ],
      "execution_count": null,
      "outputs": [
        {
          "output_type": "execute_result",
          "data": {
            "text/plain": [
              "0.7235621521335807"
            ]
          },
          "metadata": {},
          "execution_count": 19
        }
      ]
    },
    {
      "cell_type": "markdown",
      "metadata": {
        "id": "OV1B39DZ6i5E"
      },
      "source": [
        "Standard Model's Output"
      ]
    },
    {
      "cell_type": "code",
      "metadata": {
        "id": "7djjOdXqqYu3"
      },
      "source": [
        "X_train, y_train, X_val, y_val = [], [], [], []\n",
        "for img_path in list(gender_labels_train.keys()):\n",
        "  gender = gender_labels_train[img_path]\n",
        "  onehotenc = np.array(scores_val[img_path])\n",
        "  X_train.append(onehotenc)\n",
        "  y_train.append(gender)\n",
        "\n",
        "for img_path in list(gender_labels_val.keys()):\n",
        "  gender = gender_labels_val[img_path]\n",
        "  onehotenc = np.array(scores_val[img_path])\n",
        "  X_val.append(onehotenc)\n",
        "  y_val.append(gender)\n",
        "\n",
        "X_train, y_train, X_val, y_val = np.array(X_train), np.array(y_train), np.array(X_val), np.array(y_val) "
      ],
      "execution_count": null,
      "outputs": []
    },
    {
      "cell_type": "code",
      "metadata": {
        "colab": {
          "base_uri": "https://localhost:8080/"
        },
        "id": "rjjI8Vei6xXy",
        "outputId": "56b763c1-8a5b-4451-cc5f-d0186205af15"
      },
      "source": [
        "clf = LogisticRegression(random_state=0).fit(X_train, y_train)\n",
        "clf.score(X_val, y_val)"
      ],
      "execution_count": null,
      "outputs": [
        {
          "output_type": "execute_result",
          "data": {
            "text/plain": [
              "0.7105751391465677"
            ]
          },
          "metadata": {},
          "execution_count": 21
        }
      ]
    },
    {
      "cell_type": "code",
      "metadata": {
        "colab": {
          "base_uri": "https://localhost:8080/"
        },
        "id": "hE72fBsOaGmf",
        "outputId": "1e691188-b67a-4e72-c807-b5fba4bb90a0"
      },
      "source": [
        "print(\"Female: \", clf.score(X_val[y_val==1], y_val[[y_val==1]]))\n",
        "print(\"Male: \", clf.score(X_val[y_val==0], y_val[[y_val==0]]))"
      ],
      "execution_count": null,
      "outputs": [
        {
          "output_type": "stream",
          "name": "stdout",
          "text": [
            "Female:  0.21076233183856502\n",
            "Male:  0.9354404841963685\n"
          ]
        },
        {
          "output_type": "stream",
          "name": "stderr",
          "text": [
            "/usr/local/lib/python3.7/dist-packages/ipykernel_launcher.py:1: FutureWarning: Using a non-tuple sequence for multidimensional indexing is deprecated; use `arr[tuple(seq)]` instead of `arr[seq]`. In the future this will be interpreted as an array index, `arr[np.array(seq)]`, which will result either in an error or a different result.\n",
            "  \"\"\"Entry point for launching an IPython kernel.\n",
            "/usr/local/lib/python3.7/dist-packages/ipykernel_launcher.py:2: FutureWarning: Using a non-tuple sequence for multidimensional indexing is deprecated; use `arr[tuple(seq)]` instead of `arr[seq]`. In the future this will be interpreted as an array index, `arr[np.array(seq)]`, which will result either in an error or a different result.\n",
            "  \n"
          ]
        }
      ]
    },
    {
      "cell_type": "code",
      "metadata": {
        "id": "QSy-JnDVCkoP"
      },
      "source": [
        "N=10\n",
        "\n",
        "top_10_idx = np.argsort(clf.coef_[0])[-N:]\n",
        "bottom_10_idx = np.argsort(clf.coef_[0])[:N]\n",
        "\n",
        "top_10_obj, bottom_10_obj = [], []\n",
        "\n",
        "for idx in top_10_idx:\n",
        "  top_10_obj.append(onehot_to_humanlabels[idx])\n",
        "\n",
        "for idx in bottom_10_idx:\n",
        "  bottom_10_obj.append(onehot_to_humanlabels[idx])"
      ],
      "execution_count": null,
      "outputs": []
    },
    {
      "cell_type": "code",
      "metadata": {
        "colab": {
          "base_uri": "https://localhost:8080/"
        },
        "id": "agf6gQQlWFPw",
        "outputId": "7056851d-cc81-41d8-da7c-1fa2f5e79c88"
      },
      "source": [
        "top_10_obj"
      ],
      "execution_count": null,
      "outputs": [
        {
          "output_type": "execute_result",
          "data": {
            "text/plain": [
              "['rock',\n",
              " 'bed',\n",
              " 'floor-tile',\n",
              " 'towel',\n",
              " 'giraffe',\n",
              " 'vase',\n",
              " 'handbag',\n",
              " 'apple',\n",
              " 'broccoli',\n",
              " 'teddy bear']"
            ]
          },
          "metadata": {},
          "execution_count": 24
        }
      ]
    },
    {
      "cell_type": "code",
      "metadata": {
        "colab": {
          "base_uri": "https://localhost:8080/"
        },
        "id": "O8oXHqZQVHxe",
        "outputId": "2017fca1-e30d-4ddf-c4ca-b8e529e0f42b"
      },
      "source": [
        "len(bottom_10_obj + top_10_obj)"
      ],
      "execution_count": null,
      "outputs": [
        {
          "output_type": "execute_result",
          "data": {
            "text/plain": [
              "20"
            ]
          },
          "metadata": {},
          "execution_count": 25
        }
      ]
    },
    {
      "cell_type": "code",
      "metadata": {
        "colab": {
          "base_uri": "https://localhost:8080/"
        },
        "id": "ri9PGwogVKvH",
        "outputId": "b79583c8-03d5-4f66-9f28-f9a0ef7782af"
      },
      "source": [
        "np.sort(clf.coef_[0])[0:10]# + np.sort(clf.coef_[0])[-10:])"
      ],
      "execution_count": null,
      "outputs": [
        {
          "output_type": "execute_result",
          "data": {
            "text/plain": [
              "array([-2.86764856, -2.00258374, -1.51734905, -1.42600523, -1.03885806,\n",
              "       -1.02873589, -1.00956641, -0.95445528, -0.93187831, -0.8429714 ])"
            ]
          },
          "metadata": {},
          "execution_count": 26
        }
      ]
    },
    {
      "cell_type": "code",
      "metadata": {
        "colab": {
          "base_uri": "https://localhost:8080/"
        },
        "id": "GONMu2fbVNQg",
        "outputId": "6bb99765-638c-439d-d5c1-a425e8a8157e"
      },
      "source": [
        "np.array(list(np.sort(clf.coef_[0])[0:10])+list(np.sort(clf.coef_[0])[-10:]))"
      ],
      "execution_count": null,
      "outputs": [
        {
          "output_type": "execute_result",
          "data": {
            "text/plain": [
              "array([-2.86764856, -2.00258374, -1.51734905, -1.42600523, -1.03885806,\n",
              "       -1.02873589, -1.00956641, -0.95445528, -0.93187831, -0.8429714 ,\n",
              "        0.66059617,  0.69355874,  0.71144835,  0.72994391,  0.8106366 ,\n",
              "        0.82333836,  0.87594477,  0.94149913,  0.95636359,  1.02897341])"
            ]
          },
          "metadata": {},
          "execution_count": 27
        }
      ]
    },
    {
      "cell_type": "code",
      "metadata": {
        "colab": {
          "base_uri": "https://localhost:8080/",
          "height": 402
        },
        "id": "gTup-0XHWRQG",
        "outputId": "7d3daf14-30ec-43e4-feca-988ad4407fb1"
      },
      "source": [
        "'''import matplotlib.pyplot as plt\n",
        "fig = plt.figure()\n",
        "fig.set_size_inches(10.5, 5.5)\n",
        "ax = fig.add_axes([0,0,1,1])\n",
        "langs = top_10_obj\n",
        "students = np.sort(clf.coef_[0])[-10:]\n",
        "ax.set_ylabel('Percent of Images with Object ')\n",
        "ax.set_title('Top 10 Percent Difference in Object Occurence in M vs F Images')\n",
        "ax.bar(langs,students)\n",
        "plt.show()'''\n",
        "\n",
        "fig = plt.figure()\n",
        "fig.set_size_inches(23.5, 7.5)\n",
        "\n",
        "# create a dataset\n",
        "height = np.array(list(np.sort(clf.coef_[0])[0:10])+list(np.sort(clf.coef_[0])[-10:]))\n",
        "bars = bottom_10_obj + top_10_obj\n",
        "x_pos = np.arange(len(bars))\n",
        "\n",
        "# Create bars with different colors\n",
        "colors = []\n",
        "for i in range(10):\n",
        "  colors.append('blue')\n",
        "for i in range(10):\n",
        "  colors.append('darksalmon')\n",
        "\n",
        "plt.bar(x_pos, height, color=colors)\n",
        "\n",
        "# Create names on the x-axis\n",
        "plt.xticks(x_pos, bars, fontsize=12, rotation=20)\n",
        "plt.xlabel(\"Object Name\", fontsize=20)\n",
        "plt.ylabel(\"Logistic Regression Classifier Weight\", fontsize=20)\n",
        "plt.title(\"Top 10 and Bottom 10 Classifier Weights in Logistic Regression Model\", fontsize=20)\n",
        "plt.rcParams[\"figure.figsize\"] = (25,5)\n",
        "# Show graph\n",
        "plt.show()"
      ],
      "execution_count": null,
      "outputs": [
        {
          "output_type": "display_data",
          "data": {
            "image/png": "[encoded data removed]",
            "text/plain": [
              "<Figure size 1692x540 with 1 Axes>"
            ]
          },
          "metadata": {}
        }
      ]
    },
    {
      "cell_type": "code",
      "metadata": {
        "id": "HOOWrxxgXchB",
        "colab": {
          "base_uri": "https://localhost:8080/"
        },
        "outputId": "b2276fda-dae2-4f73-8f7e-cf7348ba180d"
      },
      "source": [
        "top_10_idx"
      ],
      "execution_count": null,
      "outputs": [
        {
          "output_type": "execute_result",
          "data": {
            "text/plain": [
              "array([138,  59, 105, 156,  23,  75,  26,  47,  50,  77])"
            ]
          },
          "metadata": {},
          "execution_count": 29
        }
      ]
    },
    {
      "cell_type": "code",
      "metadata": {
        "id": "fhhgLPl2XeWj"
      },
      "source": [
        ""
      ],
      "execution_count": null,
      "outputs": []
    },
    {
      "cell_type": "code",
      "metadata": {
        "id": "S1pSWeQcDe1p"
      },
      "source": [
        ""
      ],
      "execution_count": null,
      "outputs": []
    },
    {
      "cell_type": "markdown",
      "metadata": {
        "id": "wQc_Kfa2DfR7"
      },
      "source": [
        "NN Accuracy"
      ]
    },
    {
      "cell_type": "code",
      "metadata": {
        "id": "uXo-uExhDlXg"
      },
      "source": [
        "F_objects_imgid = pickle.load(open('F_objects_imgid.pkl', 'rb')) \n",
        "M_objects_imgid = pickle.load(open('M_objects_imgid.pkl', 'rb')) \n",
        "gender_labels_test = pickle.load(open('gender_labels_test.pkl', 'rb')) # image path name to one hot encoding"
      ],
      "execution_count": null,
      "outputs": []
    },
    {
      "cell_type": "code",
      "metadata": {
        "id": "gAYgMU4GD0tv"
      },
      "source": [
        "F_COUNT, M_COUNT = 0, 0\n",
        "for imgpath in M_objects_imgid:\n",
        "  if (gender_labels_test[imgpath]==0):\n",
        "    M_COUNT+=1\n",
        "for imgpath in F_objects_imgid:\n",
        "  if (gender_labels_test[imgpath]==1):\n",
        "    F_COUNT+=1"
      ],
      "execution_count": null,
      "outputs": []
    },
    {
      "cell_type": "code",
      "metadata": {
        "id": "EB6ye5LJDgTG",
        "colab": {
          "base_uri": "https://localhost:8080/"
        },
        "outputId": "bf25a032-9d93-439d-bef7-a35ad144a07f"
      },
      "source": [
        "print(\"Female: \", F_COUNT/F_IMGS)\n",
        "print(\"Male: \", M_COUNT/M_IMGS)"
      ],
      "execution_count": null,
      "outputs": [
        {
          "output_type": "stream",
          "name": "stdout",
          "text": [
            "Female:  0.2798507462686567\n",
            "Male:  0.7\n"
          ]
        }
      ]
    },
    {
      "cell_type": "code",
      "metadata": {
        "id": "1c-9c8foUCX4",
        "colab": {
          "base_uri": "https://localhost:8080/"
        },
        "outputId": "7468f09e-78ea-46fd-a4ce-83b3d37b7f4c"
      },
      "source": [
        "M_COUNT, M_IMGS"
      ],
      "execution_count": null,
      "outputs": [
        {
          "output_type": "execute_result",
          "data": {
            "text/plain": [
              "(1134, 1620)"
            ]
          },
          "metadata": {},
          "execution_count": 33
        }
      ]
    },
    {
      "cell_type": "code",
      "metadata": {
        "id": "XIboMe9eUD9z",
        "colab": {
          "base_uri": "https://localhost:8080/",
          "height": 35
        },
        "outputId": "eb016d13-2a93-475d-c3c2-2a9e2f507e27"
      },
      "source": [
        "img_path"
      ],
      "execution_count": null,
      "outputs": [
        {
          "output_type": "execute_result",
          "data": {
            "application/vnd.google.colaboratory.intrinsic+json": {
              "type": "string"
            },
            "text/plain": [
              "'/n/fs/visualai-scr/Data/Coco/2014data/val2014/COCO_val2014_000000581357.jpg'"
            ]
          },
          "metadata": {},
          "execution_count": 34
        }
      ]
    },
    {
      "cell_type": "code",
      "source": [
        "female_top10 = top_10_idx\n",
        "male_top10 = bottom_10_idx\n",
        "\n",
        "female_img_id = []\n",
        "female_img_id_top10 = []\n",
        "male_img_id = []\n",
        "male_img_id_top10 = []\n",
        "\n",
        "for img_path in list(gender_labels_test.keys()):\n",
        "  objects = np.where(labels_val[img_path]==1)[0]\n",
        "  img_id = int(img_path.split('/')[-1][:-4][-12:])\n",
        "  top10=False\n",
        "  # if female\n",
        "  if gender_labels_test[img_path]:\n",
        "    for o in objects:\n",
        "      # find out if the objects in this image contain objects from top 10\n",
        "      if o in female_top10:\n",
        "        top10=True\n",
        "        break\n",
        "    if top10: female_img_id_top10.append(img_id)\n",
        "    else: female_img_id.append(img_id)\n",
        "        \n",
        "  # if male\n",
        "  else:\n",
        "    for o in objects:\n",
        "      # find out if the objects in this image contain objects from top 10\n",
        "      if o in male_top10:\n",
        "        top10=True\n",
        "        break\n",
        "    if top10: male_img_id_top10.append(img_id)\n",
        "    else: male_img_id.append(img_id)"
      ],
      "metadata": {
        "id": "VzJMwsf89hF4"
      },
      "execution_count": null,
      "outputs": []
    },
    {
      "cell_type": "code",
      "source": [
        "print(len(female_img_id), len(female_img_id_top10), len(male_img_id), len(male_img_id_top10))"
      ],
      "metadata": {
        "colab": {
          "base_uri": "https://localhost:8080/"
        },
        "id": "vuGeQV-tbfCc",
        "outputId": "4d705f8a-571e-41e9-c827-4ddbebf2d052"
      },
      "execution_count": null,
      "outputs": [
        {
          "output_type": "stream",
          "name": "stdout",
          "text": [
            "440 196 856 664\n"
          ]
        }
      ]
    },
    {
      "cell_type": "code",
      "source": [
        "from scipy.stats import ttest_ind_from_stats\n",
        "\n",
        "# stat sig between all female and all male \n",
        "\n",
        "# stat sig between all top 10 vs all not top 10\n",
        "\n",
        "ttest_ind_from_stats(mean1=0.209, std1=0.1, nobs1=440+196,\n",
        "                     mean2=0.218, std2=0.1, nobs2=856+664)"
      ],
      "metadata": {
        "colab": {
          "base_uri": "https://localhost:8080/"
        },
        "id": "xPOyeJpJbnIc",
        "outputId": "a2b291ae-8b77-438a-9830-148e1b2c5b64"
      },
      "execution_count": null,
      "outputs": [
        {
          "output_type": "execute_result",
          "data": {
            "text/plain": [
              "Ttest_indResult(statistic=-1.9057612097262402, pvalue=0.05681419525738061)"
            ]
          },
          "metadata": {},
          "execution_count": 38
        }
      ]
    },
    {
      "cell_type": "code",
      "source": [
        "ls"
      ],
      "metadata": {
        "id": "FsNpwGmymrvv",
        "colab": {
          "base_uri": "https://localhost:8080/"
        },
        "outputId": "2264f3e9-633e-47fa-dc58-485fc39e5201"
      },
      "execution_count": null,
      "outputs": [
        {
          "output_type": "stream",
          "name": "stdout",
          "text": [
            "classifier.py                         humanlabels_to_onehot.pkl\n",
            "COCO_val2014_000000022341_female.png  labels_val.pkl\n",
            "COCO_val2014_000000242365_female.png  load_data.py\n",
            "F_objects_imgid.pkl                   M_objects_imgid.pkl\n",
            "F_objects.pkl                         M_objects.pkl\n",
            "gender_labels_test.pkl                \u001b[0m\u001b[01;34m__pycache__\u001b[0m/\n",
            "gender_labels_train.pkl               scores_val.pkl\n",
            "gender_labels_val.pkl\n"
          ]
        }
      ]
    },
    {
      "cell_type": "code",
      "source": [
        "import numpy as np\n",
        "import PIL\n",
        "import torch\n",
        "import sys\n",
        "import os\n",
        "import cv2\n",
        "import argparse\n",
        "import matplotlib.pyplot as plt\n",
        "import torchvision.transforms as T\n",
        "\n",
        "from PIL import Image\n",
        "from matplotlib.colors import rgb_to_hsv, hsv_to_rgb\n",
        "\n",
        "from classifier import multilabel_classifier\n",
        "from load_data import *\n",
        "\n",
        "###                                                                                                                                                                                                                                                                                                                                                                                                                                                                                                                                                                                                                                                                                                                                        \n",
        "# Referenced from:                                                                                                                                                                                                                                                                                                                                                                                                                                                                                                                                                                                                                                                                                                                         \n",
        "# https://github.com/jacobgil/pytorch-grad-cam/blob/master/gradcam.py                                                                                                                                                                                                                                                                                                                                                                                                                                                                                                                                                                                                                                                                      \n",
        "#                                                                                                                                                                                                                                                                                                                                                                                                                                                                                                                                                                                                                                                                                                                                          \n",
        "# Example usage:                                                                                                                                                                                                                                                                                                                                                                                                                                                                                                                                                                                                                                                                                                                           \n",
        "# python get_cams.py --modelpath $MODELPATH --img_ids 535811 430054 554674                                                                                                                                                                                                                                                                                                                                                                                                                                                                                                                                                                                                                                                                 \n",
        "#                                                                                                                                                                                                                                                                                                                                                                                                                                                                                                                                                                                                                                                                                                                                          \n",
        "# --modelpath: path to the model to visualize                                                                                                                                                                                                                                                                                                                                                                                                                                                                                                                                                                                                                                                                                              \n",
        "# --img_ids: COCOStuff image IDs (use the Explore tool on the COCO dataset website)                                                                                                                                                                                                                                                                                                                                                                                                                                                                                                                                                                                                                                                        \n",
        "###                                                                                                                                                                                                                                                                                                                                                                                                                                                                                                                                                                                                                                                                                                                                        \n",
        "\n",
        "def get_heatmap(CAM_map, img):\n",
        "    CAM_map = cv2.resize(CAM_map, (img.shape[0], img.shape[1]))\n",
        "    CAM_map = CAM_map - np.min(CAM_map)\n",
        "    CAM_map = CAM_map / np.max(CAM_map)\n",
        "    CAM_map = 1.0 - CAM_map # make sure colormap is not reversed                                                                                                                                                                                                                                                                                                                                                                                                                                                                                                                                                                                                                                                                           \n",
        "    heatmap = cv2.applyColorMap(np.uint8(255 * CAM_map), cv2.COLORMAP_JET)\n",
        "    heatmap = np.float32(heatmap) / 255\n",
        "    heatmap = heatmap + np.float32(img)\n",
        "    heatmap = heatmap / np.max(heatmap)\n",
        "    heatmap = np.uint8(255 * heatmap)\n",
        "    return heatmap\n",
        "\n",
        "def returnCAM(feature_conv, weight_softmax, class_labels, device):\n",
        "    bz, nc, h, w = feature_conv.shape # (1, hidden_size, height, width)                                                                                                                                                                                                                                                                                                                                                                                                                                                                                                                                                                                                                                                                    \n",
        "    output_cam = torch.Tensor(0, 7, 7).to(device=device)\n",
        "    for idx in class_labels:                                                                                                                                                                                                                                                                                                                                                                                                                                                                                                                                                                                                                                                                         \n",
        "        cam = torch.mm(weight_softmax.unsqueeze(0), feature_conv.reshape((nc, h*w)))\n",
        "        cam = cam.reshape(h, w)\n",
        "        cam = cam - cam.min()\n",
        "        cam_img = cam / cam.max()\n",
        "        output_cam = torch.cat([output_cam, cam_img.unsqueeze(0)], dim=0)\n",
        "    return output_cam\n",
        "\n",
        "def returnCAM_featuresplit(feature_conv, weight_softmax, class_labels, device, split=1024):\n",
        "    feature_conv_o = feature_conv[:,:split,:,:]\n",
        "    feature_conv_s = feature_conv[:,split:,:,:]\n",
        "    bz, nc, h, w = feature_conv.shape\n",
        "    output_cam = torch.Tensor(0, 7, 7).to(device=device)\n",
        "    for idx in class_labels:\n",
        "        cam_o = torch.mm(weight_softmax[idx][:split].unsqueeze(0), feature_conv_o.reshape((split, h*w)))\n",
        "        cam_s = torch.mm(weight_softmax[idx][split:].unsqueeze(0), feature_conv_s.reshape((nc-split, h*w)))\n",
        "        cam_o = cam_o.reshape(h, w)\n",
        "        cam_s = cam_s.reshape(h, w)\n",
        "        cam_o = cam_o - cam_o.min()\n",
        "        cam_s = cam_s - cam_s.min()\n",
        "        cam_o_img = cam_o / cam_o.max()\n",
        "        cam_s_img = cam_s / cam_s.max()\n",
        "        output_cam = torch.cat([output_cam, cam_o_img.unsqueeze(0), cam_s_img.unsqueeze(0)], dim=0)\n",
        "    return output_cam\n",
        "\n",
        "def main():\n",
        "    # parser = argparse.ArgumentParser()\n",
        "    # parser.add_argument('--modelpath', type=str, default=None)\n",
        "    # parser.add_argument('--img_ids', type=int, nargs='+', default=0)\n",
        "    # parser.add_argument('--outdir', type=str, default=None)\n",
        "    # parser.add_argument('--featuresplit', default=False, action=\"store_true\")\n",
        "    # parser.add_argument('--split', type=int, default=1024)\n",
        "    # parser.add_argument('--coco2014_images', type=str, default='/n/fs/visualai-scr/Data/Coco/2014data')\n",
        "    # parser.add_argument('--device', default=torch.device('cuda'))\n",
        "    # parser.add_argument('--dtype', default=torch.float32)\n",
        "    # arg = vars(parser.parse_args())\n",
        "    arg = {'modelpath': 'model_199.pth', \n",
        "           'img_ids': [22341, 242365], \n",
        "           'outdir': None,\n",
        "           'featuresplit': False, \n",
        "           'split': 1024,\n",
        "           'coco2014_images': '',\n",
        "           'device': torch.device('cuda'),\n",
        "           'dtype': torch.float32}\n",
        "    print(arg, '\\n', flush=True)\n",
        "\n",
        "    normalize = T.Normalize(mean=[0.485, 0.456, 0.406], std=[0.229, 0.224, 0.225])\n",
        "    transform = T.Compose([\n",
        "        T.Resize(224),\n",
        "        T.CenterCrop(224),\n",
        "        T.ToTensor()\n",
        "    ])\n",
        "\n",
        "    classifier_features = []\n",
        "    def hook_classifier_features(module, input, output):\n",
        "        classifier_features.append(output)\n",
        "\n",
        "    classifier = multilabel_classifier(device=arg['device'], dtype=arg['dtype'], modelpath=arg['modelpath'])\n",
        "    classifier.model = classifier.model.to(device=classifier.device, dtype=classifier.dtype)\n",
        "\n",
        "    classifier.model._modules['resnet'].layer4.register_forward_hook(hook_classifier_features)\n",
        "    classifier_params = list(classifier.model.parameters())\n",
        "    classifier_softmax_weight = classifier_params[-2].squeeze(0)\n",
        "\n",
        "    for img_id in arg['img_ids']:\n",
        "        # Open image                                                                                                                                                                                                                                                                                                                                                                                                                                                                                                                                                                                                                                                                                                                       \n",
        "        img_path = '{}/train2014/COCO_train2014_{:012d}.jpg'.format(arg['coco2014_images'], img_id)\n",
        "        img_name = img_path.split('/')[-1][:-4]\n",
        "        if not os.path.exists(img_path):\n",
        "            # Try searching in val set                                                                                                                                                                                                                                                                                                                                                                                                                                                                                                                                                                                                                                                                                                     \n",
        "            img_path = '{}/val2014/COCO_val2014_{:012d}.jpg'.format(arg['coco2014_images'], img_id)\n",
        "            print('img_path: ', img_path)\n",
        "            img_name = img_path.split('/')[-1][:-4]\n",
        "            if not os.path.exists(img_path):\n",
        "                print('WARNING: Could not find img {}'.format(img_id), flush=True)\n",
        "                continue\n",
        "        original_img = Image.open(img_path).convert('RGB')\n",
        "\n",
        "        if arg['outdir'] != None:\n",
        "            outdir = '{}/{}'.format(arg['outdir'], img_id)\n",
        "        else:\n",
        "            outdir = str(img_id)\n",
        "        if not os.path.exists(outdir):\n",
        "            os.makedirs(outdir)\n",
        "        print('Processing img {}'.format(img_id), flush=True)\n",
        "\n",
        "        # Get image class labels                                                                                                                                                                                                                                                                                                                                                                                                                                                                                                                                                                                                                                                                                                           \n",
        "        img_labels = pickle.load(open('data/gender_labels_train.pkl', 'rb'))\n",
        "        if img_path in img_labels:\n",
        "            if torch.cuda.device_count() > 0:\n",
        "                class_labels = img_labels[img_path].type('torch.cuda.ByteTensor')\n",
        "            else:\n",
        "                class_labels = img_labels[img_path].type('torch.ByteTensor')\n",
        "        else:\n",
        "            img_labels = pickle.load(open('data/gender_labels_test.pkl', 'rb'))\n",
        "            if img_path in img_labels:\n",
        "                if torch.cuda.device_count() > 0:\n",
        "                    class_labels = [img_labels[img_path]]\n",
        "                    #class_labels = img_labels[img_path].type('torch.cuda.ByteTensor')                                                                                                                                                                                                                                                                                                                                                                                                                                                                                                                                                                                                                                                     \n",
        "                else:\n",
        "                    class_labels = [img_labels[img_path]]\n",
        "                    class_labels = img_labels[img_path].type('torch.ByteTensor')\n",
        "            else:\n",
        "                print('No labels found for image {}'.format(img_path), flush=True)\n",
        "                class_labels = torch.zeros(1)\n",
        "        #class_labels = torch.flatten(torch.nonzero(class_labels))                                                                                                                                                                                                                                                                                                                                                                                                                                                                                                                                                                                                                                                                         \n",
        "        class_labels = torch.FloatTensor(class_labels)\n",
        "        classifier_features.clear()\n",
        "        img = transform(original_img)\n",
        "        norm_img = normalize(img)\n",
        "        norm_img = norm_img.to(device=classifier.device, dtype=classifier.dtype)\n",
        "        norm_img = norm_img.unsqueeze(0)\n",
        "        x = classifier.forward(norm_img)\n",
        "\n",
        "        if arg['featuresplit']:\n",
        "            CAMs = returnCAM_featuresplit(classifier_features[0], classifier_softmax_weight, class_labels, arg['device'], split=arg['split'])\n",
        "        else:\n",
        "            CAMs = returnCAM(classifier_features[0], classifier_softmax_weight, class_labels, arg['device'])\n",
        "        CAMs = CAMs.detach().cpu().numpy()\n",
        "\n",
        "        # Save CAM heatmap                                                                                                                                                                                                                                                                                                                                                                                                                                                                                                                                                                                                                                                                                                                 \n",
        "        #humanlabels_to_onehot = pickle.load(open('/n/fs/context-scr/data/COCOStuff/humanlabels_to_onehot.pkl', 'rb'))                                                                                                                                                                                                                                                                                                                                                                                                                                                                                                                                                                                                                     \n",
        "        #onehot_to_humanlabels = {v: k for k,v in humanlabels_to_onehot.items()}                                                                                                                                                                                                                                                                                                                                                                                                                                                                                                                                                                                                                                                           \n",
        "        onehot_to_humanlabels= {0: 'male',\n",
        "                                1: 'female'}\n",
        "        img = np.moveaxis(img.detach().cpu().numpy(), 0, -1)\n",
        "        class_labels = class_labels.cpu().detach().numpy()\n",
        "        if arg['featuresplit']:\n",
        "            for i in range(len(class_labels)):\n",
        "                heatmap_o = get_heatmap(CAMs[2*i], img)\n",
        "                heatmap_s = get_heatmap(CAMs[2*i+1], img)\n",
        "\n",
        "                fig = plt.figure()\n",
        "                fig_o = fig.add_subplot(121)\n",
        "                fig_o.imshow(heatmap_o)\n",
        "                fig_o.axis('off')\n",
        "                fig_o.set_title('{} ({})'.format(onehot_to_humanlabels[class_labels[i]], 'Wo'))\n",
        "\n",
        "                fig_s = fig.add_subplot(122)\n",
        "                fig_s.imshow(heatmap_s)\n",
        "                fig_s.axis('off')\n",
        "                fig_s.set_title('{} ({})'.format(onehot_to_humanlabels[class_labels[i]], 'Ws'))\n",
        "                humanlabel = onehot_to_humanlabels[class_labels[i]].replace(' ', '+')\n",
        "                plt.savefig('{}/{}_{}.png'.format(outdir, img_name, humanlabel))\n",
        "                plt.show()\n",
        "                plt.close()\n",
        "        else:\n",
        "            for i in range(len(class_labels)):\n",
        "                heatmap = get_heatmap(CAMs[i], img)\n",
        "                plt.figure()\n",
        "                plt.imshow(heatmap)\n",
        "                plt.axis('off')\n",
        "                plt.title(onehot_to_humanlabels[class_labels[i]])\n",
        "                humanlabel = onehot_to_humanlabels[class_labels[i]].replace(' ', '+')\n",
        "                plt.savefig('{}/{}_{}.png'.format(outdir, img_name, humanlabel))\n",
        "                plt.show()\n",
        "                plt.close()\n",
        "\n",
        "if __name__ == '__main__':\n",
        "    main()\n",
        "\n",
        "\n"
      ],
      "metadata": {
        "id": "mjNInNOMo_h4"
      },
      "execution_count": null,
      "outputs": []
    },
    {
      "cell_type": "code",
      "source": [
        ""
      ],
      "metadata": {
        "id": "h4iRIRKXrE_Q"
      },
      "execution_count": null,
      "outputs": []
    }
  ]
}